{
 "cells": [
  {
   "cell_type": "code",
   "execution_count": 1,
   "id": "extreme-choir",
   "metadata": {},
   "outputs": [],
   "source": [
    "import numpy as np\n",
    "\n",
    "from estimateEntropyUsingCopulas import estimateEntropyUsingCopulas as EEC"
   ]
  },
  {
   "cell_type": "code",
   "execution_count": 2,
   "id": "double-access",
   "metadata": {},
   "outputs": [],
   "source": [
    "def transfer_entropy(list1: list, list2: list, dim: int = 1, lookback: int = 0):\n",
    "    \n",
    "    # assume the start of each list is the earliest point,  \n",
    "    # and the end of each list is the latest point.\n",
    "\n",
    "    list1 = list1[-lookback:]\n",
    "    list2 = list2[-lookback:]\n",
    "\n",
    "    arr1 = np.array(list1)\n",
    "    arr2 = np.array(list2)      \n",
    "\n",
    "    if dim == 1:\n",
    "        arr1 = arr1.reshape(len(arr1), 1)\n",
    "        arr2 = arr2.reshape(len(arr2), 1)\n",
    "\n",
    "    TE = EEC(xs=arr2) - \\\n",
    "         EEC(xs=arr2[:-1]) - \\\n",
    "         EEC(xs=np.concatenate((arr2, arr1[:-1]))) + \\\n",
    "         EEC(xs=np.concatenate((arr2[:-1], arr1[:-1])))\n",
    "\n",
    "    return TE\n"
   ]
  },
  {
   "cell_type": "code",
   "execution_count": null,
   "metadata": {},
   "outputs": [],
   "source": []
  }
 ],
 "metadata": {
  "kernelspec": {
   "name": "python3",
   "display_name": "Python 3.8.6 64-bit ('endotech': conda)"
  },
  "language_info": {
   "codemirror_mode": {
    "name": "ipython",
    "version": 3
   },
   "file_extension": ".py",
   "mimetype": "text/x-python",
   "name": "python",
   "nbconvert_exporter": "python",
   "pygments_lexer": "ipython3",
   "version": "3.8.6"
  },
  "interpreter": {
   "hash": "f7d6dd604b063906babeaee8729a53b2d7bce89143e123121e85b25c3a979fa5"
  }
 },
 "nbformat": 4,
 "nbformat_minor": 5
}