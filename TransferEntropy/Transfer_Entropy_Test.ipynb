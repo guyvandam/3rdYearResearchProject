{
 "cells": [
  {
   "cell_type": "code",
   "execution_count": 3,
   "id": "extreme-choir",
   "metadata": {},
   "outputs": [
    {
     "output_type": "error",
     "ename": "ModuleNotFoundError",
     "evalue": "No module named 'DataManagement'",
     "traceback": [
      "\u001b[0;31m---------------------------------------------------------------------------\u001b[0m",
      "\u001b[0;31mModuleNotFoundError\u001b[0m                       Traceback (most recent call last)",
      "\u001b[0;32m<ipython-input-3-cdfa8b7b9195>\u001b[0m in \u001b[0;36m<module>\u001b[0;34m\u001b[0m\n\u001b[1;32m      3\u001b[0m \u001b[0;32mfrom\u001b[0m \u001b[0mestimateEntropyUsingCopulas\u001b[0m \u001b[0;32mimport\u001b[0m \u001b[0mestimateEntropyUsingCopulas\u001b[0m \u001b[0;32mas\u001b[0m \u001b[0mEEC\u001b[0m\u001b[0;34m\u001b[0m\u001b[0;34m\u001b[0m\u001b[0m\n\u001b[1;32m      4\u001b[0m \u001b[0;34m\u001b[0m\u001b[0m\n\u001b[0;32m----> 5\u001b[0;31m \u001b[0;32mfrom\u001b[0m \u001b[0mDataManagement\u001b[0m\u001b[0;34m.\u001b[0m\u001b[0mdata_manager\u001b[0m \u001b[0;32mimport\u001b[0m \u001b[0mDataManager\u001b[0m\u001b[0;34m\u001b[0m\u001b[0;34m\u001b[0m\u001b[0m\n\u001b[0m",
      "\u001b[0;31mModuleNotFoundError\u001b[0m: No module named 'DataManagement'"
     ]
    }
   ],
   "source": [
    "import numpy as np\n",
    "\n",
    "from estimateEntropyUsingCopulas import estimateEntropyUsingCopulas as EEC"
   ]
  },
  {
   "cell_type": "code",
   "execution_count": 2,
   "id": "double-access",
   "metadata": {},
   "outputs": [],
   "source": [
    "def transfer_entropy(list1: list, list2: list, dim: int = 1, lookback: int = 0):\n",
    "    \n",
    "    # assume the start of each list is the earliest point,  \n",
    "    # and the end of each list is the latest point.\n",
    "\n",
    "    list1 = list1[-lookback:]\n",
    "    list2 = list2[-lookback:]\n",
    "\n",
    "    arr1 = np.array(list1)\n",
    "    arr2 = np.array(list2)      \n",
    "\n",
    "    if dim == 1:\n",
    "        arr1 = arr1.reshape(len(arr1), 1)\n",
    "        arr2 = arr2.reshape(len(arr2), 1)\n",
    "\n",
    "    TE = EEC(xs=arr2) - \\\n",
    "         EEC(xs=arr2[:-1]) - \\\n",
    "         EEC(xs=np.concatenate((arr2, arr1[:-1]))) + \\\n",
    "         EEC(xs=np.concatenate((arr2[:-1], arr1[:-1])))\n",
    "\n",
    "    return TE\n"
   ]
  },
  {
   "cell_type": "code",
   "execution_count": null,
   "metadata": {},
   "outputs": [],
   "source": []
  }
 ],
 "metadata": {
  "kernelspec": {
   "name": "python3",
   "display_name": "Python 3.8.8 64-bit ('tensorflow': conda)"
  },
  "language_info": {
   "codemirror_mode": {
    "name": "ipython",
    "version": 3
   },
   "file_extension": ".py",
   "mimetype": "text/x-python",
   "name": "python",
   "nbconvert_exporter": "python",
   "pygments_lexer": "ipython3",
   "version": "3.8.8"
  },
  "interpreter": {
   "hash": "d505f54e53eba193a3d42f2c160468c2cee12598e1d5cbc80b6901ea3b31043e"
  }
 },
 "nbformat": 4,
 "nbformat_minor": 5
}