{
 "cells": [
  {
   "cell_type": "code",
   "execution_count": 1,
   "source": [
    "from transfer_entropy_functions import *\n",
    "from DataManagement.data_manager import DataManager\n",
    "\n",
    "data_manager = DataManager()"
   ],
   "outputs": [],
   "metadata": {}
  },
  {
   "cell_type": "code",
   "execution_count": 2,
   "source": [
    "assets = ['BTCUSDT', 'ETHUSDT']\n",
    "one_m_df = get_dataframe_different_assets(assets, '1m')"
   ],
   "outputs": [],
   "metadata": {}
  },
  {
   "cell_type": "code",
   "execution_count": 3,
   "source": [
    "sub_timeframe = '1d'\n",
    "sub_timeframe_df_list = list(one_m_df.resample(sub_timeframe))"
   ],
   "outputs": [],
   "metadata": {}
  },
  {
   "cell_type": "code",
   "execution_count": 4,
   "source": [
    "timestamp_to_skip_list = []\n",
    "for timestamp, temp_df in sub_timeframe_df_list:\n",
    "    if len(temp_df) != 1440:\n",
    "        timestamp_to_skip_list.append(timestamp)\n",
    "\n",
    "print(len(timestamp_to_skip_list))"
   ],
   "outputs": [
    {
     "output_type": "stream",
     "name": "stdout",
     "text": [
      "46\n"
     ]
    }
   ],
   "metadata": {}
  },
  {
   "cell_type": "code",
   "execution_count": 6,
   "source": [
    "def get_window_list(input_list, window_length):\n",
    "    result_list = []\n",
    "    list_length = len(input_list)\n",
    "    for i in range(list_length):\n",
    "        start_idx = i\n",
    "        end_idx = i + window_length\n",
    "        if end_idx > list_length:\n",
    "            break\n",
    "\n",
    "        result_list.append(input_list[start_idx: end_idx])\n",
    "    return result_list"
   ],
   "outputs": [],
   "metadata": {}
  },
  {
   "cell_type": "markdown",
   "source": [
    "# Example"
   ],
   "metadata": {}
  },
  {
   "cell_type": "code",
   "execution_count": 20,
   "source": [
    "get_window_list([1,2,3,4,5,6,7,8,9], window_length = 7)"
   ],
   "outputs": [
    {
     "output_type": "execute_result",
     "data": {
      "text/plain": [
       "[[1, 2, 3, 4, 5, 6, 7], [2, 3, 4, 5, 6, 7, 8], [3, 4, 5, 6, 7, 8, 9]]"
      ]
     },
     "metadata": {},
     "execution_count": 20
    }
   ],
   "metadata": {}
  },
  {
   "cell_type": "code",
   "execution_count": 7,
   "source": [
    "def seperate_list(input_list):\n",
    "    return [i for i, _ in input_list], [j for _, j in input_list]"
   ],
   "outputs": [],
   "metadata": {}
  },
  {
   "cell_type": "markdown",
   "source": [
    "# Example"
   ],
   "metadata": {}
  },
  {
   "cell_type": "code",
   "execution_count": 18,
   "source": [
    "seperate_list([(1,1), (2,2), (3,3)])"
   ],
   "outputs": [
    {
     "output_type": "execute_result",
     "data": {
      "text/plain": [
       "([1, 2, 3], [1, 2, 3])"
      ]
     },
     "metadata": {},
     "execution_count": 18
    }
   ],
   "metadata": {}
  },
  {
   "cell_type": "code",
   "execution_count": 10,
   "source": [
    "timestamp_list, df_list = seperate_list(sub_timeframe_df_list)\n",
    "timestamp_window_list = get_window_list(timestamp_list, 7);\n",
    "df_window_list = get_window_list(df_list,7);"
   ],
   "outputs": [],
   "metadata": {}
  },
  {
   "cell_type": "code",
   "execution_count": 17,
   "source": [
    "skipping_counter = 0\n",
    "for timestamp_window, df_window in zip(timestamp_window_list, df_window_list):\n",
    "    \n",
    "    for timestamp_to_skip in timestamp_to_skip_list:\n",
    "        if timestamp_to_skip in timestamp_window:\n",
    "            skipping_counter += 1\n",
    "            continue\n",
    "\n",
    "        \n",
    "print((skipping_counter/len(sub_timeframe_df_list))*100, \"%\")"
   ],
   "outputs": [
    {
     "output_type": "stream",
     "name": "stdout",
     "text": [
      "21.923620933521924 %\n"
     ]
    }
   ],
   "metadata": {}
  },
  {
   "cell_type": "code",
   "execution_count": null,
   "source": [],
   "outputs": [],
   "metadata": {}
  }
 ],
 "metadata": {
  "orig_nbformat": 4,
  "language_info": {
   "name": "python",
   "version": "3.8.8",
   "mimetype": "text/x-python",
   "codemirror_mode": {
    "name": "ipython",
    "version": 3
   },
   "pygments_lexer": "ipython3",
   "nbconvert_exporter": "python",
   "file_extension": ".py"
  },
  "kernelspec": {
   "name": "python3",
   "display_name": "Python 3.8.8 64-bit ('tensorflow': conda)"
  },
  "interpreter": {
   "hash": "d505f54e53eba193a3d42f2c160468c2cee12598e1d5cbc80b6901ea3b31043e"
  }
 },
 "nbformat": 4,
 "nbformat_minor": 2
}