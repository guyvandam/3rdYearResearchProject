{
 "metadata": {
  "language_info": {
   "codemirror_mode": {
    "name": "ipython",
    "version": 3
   },
   "file_extension": ".py",
   "mimetype": "text/x-python",
   "name": "python",
   "nbconvert_exporter": "python",
   "pygments_lexer": "ipython3",
   "version": "3.8.8"
  },
  "orig_nbformat": 4,
  "kernelspec": {
   "name": "python3",
   "display_name": "Python 3.8.8 64-bit ('tensorflow': conda)"
  },
  "interpreter": {
   "hash": "d505f54e53eba193a3d42f2c160468c2cee12598e1d5cbc80b6901ea3b31043e"
  }
 },
 "nbformat": 4,
 "nbformat_minor": 2,
 "cells": [
  {
   "cell_type": "code",
   "execution_count": 4,
   "metadata": {},
   "outputs": [],
   "source": [
    "import numpy as np\n",
    "\n",
    "# from TransferEntropy.estimateEntropyUsingCopulas import estimateEntropyUsingCopulas as EEC\n",
    "from DataManagement.data_manager import DataManager\n",
    "from TransferEntropy.transfer_entropy import TransferEntropy"
   ]
  },
  {
   "cell_type": "code",
   "execution_count": 5,
   "metadata": {},
   "outputs": [],
   "source": [
    "data_manager = DataManager()"
   ]
  },
  {
   "cell_type": "code",
   "execution_count": 6,
   "metadata": {},
   "outputs": [],
   "source": [
    "cd = data_manager.get_historical_data_CoinData(\"btcusdt\", kline_size=\"1h\")"
   ]
  },
  {
   "cell_type": "code",
   "execution_count": 7,
   "metadata": {},
   "outputs": [],
   "source": [
    "df = cd.df\n",
    "te = TransferEntropy(lookback=3)"
   ]
  },
  {
   "cell_type": "code",
   "execution_count": 8,
   "metadata": {},
   "outputs": [
    {
     "output_type": "stream",
     "name": "stderr",
     "text": [
      "/Users/guyvandam/Code/University/3rdYearResearchProject/TransferEntropy/estimate_entropy_using_copulas.py:36: RuntimeWarning: divide by zero encountered in log\n  return (np.sum(log(mnSpacings)) + log(n/mn)*(n-mn))/n\n/Users/guyvandam/Code/University/3rdYearResearchProject/TransferEntropy/transfer_entropy.py:25: RuntimeWarning: invalid value encountered in double_scalars\n  TE = EEC(xs=arr2) - \\\n"
     ]
    },
    {
     "output_type": "execute_result",
     "data": {
      "text/plain": [
       "                     open      high       low     close    volume  close_pct  \\\n",
       "open             1.000000  0.000032  0.000029  0.000031  0.000004   0.000088   \n",
       "high             0.000032  1.000000  0.000030  0.000031  0.000004   0.000087   \n",
       "low              0.000029  0.000030  1.000000  0.000034  0.000004   0.000087   \n",
       "close            0.000031  0.000031  0.000034  1.000000  0.000004   0.000088   \n",
       "volume           0.000004  0.000004  0.000004  0.000004  1.000000   0.000078   \n",
       "close_pct        0.000088  0.000087  0.000087  0.000088  0.000078   1.000000   \n",
       "atr              0.000062  0.000062  0.000062  0.000062  0.000058  -0.000036   \n",
       "atr_abnormality       NaN       NaN       NaN       NaN       NaN        NaN   \n",
       "volume_pct       0.000054  0.000054  0.000054  0.000054  0.000044  -0.000041   \n",
       "high-low_pct          NaN       NaN       NaN       NaN       NaN        NaN   \n",
       "low_timestamp         NaN       NaN       NaN       NaN       NaN        NaN   \n",
       "high_timestamp        NaN       NaN       NaN       NaN       NaN        NaN   \n",
       "\n",
       "                      atr  atr_abnormality  volume_pct  high-low_pct  \\\n",
       "open             0.000062              NaN    0.000054           NaN   \n",
       "high             0.000062              NaN    0.000054           NaN   \n",
       "low              0.000062              NaN    0.000054           NaN   \n",
       "close            0.000062              NaN    0.000054           NaN   \n",
       "volume           0.000058              NaN    0.000044           NaN   \n",
       "close_pct       -0.000036              NaN   -0.000041           NaN   \n",
       "atr              1.000000              NaN    0.000025           NaN   \n",
       "atr_abnormality       NaN              1.0         NaN           NaN   \n",
       "volume_pct       0.000025              NaN    1.000000           NaN   \n",
       "high-low_pct          NaN              NaN         NaN           1.0   \n",
       "low_timestamp         NaN              NaN         NaN           NaN   \n",
       "high_timestamp        NaN              NaN         NaN           NaN   \n",
       "\n",
       "                 low_timestamp  high_timestamp  \n",
       "open                       NaN             NaN  \n",
       "high                       NaN             NaN  \n",
       "low                        NaN             NaN  \n",
       "close                      NaN             NaN  \n",
       "volume                     NaN             NaN  \n",
       "close_pct                  NaN             NaN  \n",
       "atr                        NaN             NaN  \n",
       "atr_abnormality            NaN             NaN  \n",
       "volume_pct                 NaN             NaN  \n",
       "high-low_pct               NaN             NaN  \n",
       "low_timestamp              NaN             NaN  \n",
       "high_timestamp             NaN             NaN  "
      ],
      "text/html": "<div>\n<style scoped>\n    .dataframe tbody tr th:only-of-type {\n        vertical-align: middle;\n    }\n\n    .dataframe tbody tr th {\n        vertical-align: top;\n    }\n\n    .dataframe thead th {\n        text-align: right;\n    }\n</style>\n<table border=\"1\" class=\"dataframe\">\n  <thead>\n    <tr style=\"text-align: right;\">\n      <th></th>\n      <th>open</th>\n      <th>high</th>\n      <th>low</th>\n      <th>close</th>\n      <th>volume</th>\n      <th>close_pct</th>\n      <th>atr</th>\n      <th>atr_abnormality</th>\n      <th>volume_pct</th>\n      <th>high-low_pct</th>\n      <th>low_timestamp</th>\n      <th>high_timestamp</th>\n    </tr>\n  </thead>\n  <tbody>\n    <tr>\n      <th>open</th>\n      <td>1.000000</td>\n      <td>0.000032</td>\n      <td>0.000029</td>\n      <td>0.000031</td>\n      <td>0.000004</td>\n      <td>0.000088</td>\n      <td>0.000062</td>\n      <td>NaN</td>\n      <td>0.000054</td>\n      <td>NaN</td>\n      <td>NaN</td>\n      <td>NaN</td>\n    </tr>\n    <tr>\n      <th>high</th>\n      <td>0.000032</td>\n      <td>1.000000</td>\n      <td>0.000030</td>\n      <td>0.000031</td>\n      <td>0.000004</td>\n      <td>0.000087</td>\n      <td>0.000062</td>\n      <td>NaN</td>\n      <td>0.000054</td>\n      <td>NaN</td>\n      <td>NaN</td>\n      <td>NaN</td>\n    </tr>\n    <tr>\n      <th>low</th>\n      <td>0.000029</td>\n      <td>0.000030</td>\n      <td>1.000000</td>\n      <td>0.000034</td>\n      <td>0.000004</td>\n      <td>0.000087</td>\n      <td>0.000062</td>\n      <td>NaN</td>\n      <td>0.000054</td>\n      <td>NaN</td>\n      <td>NaN</td>\n      <td>NaN</td>\n    </tr>\n    <tr>\n      <th>close</th>\n      <td>0.000031</td>\n      <td>0.000031</td>\n      <td>0.000034</td>\n      <td>1.000000</td>\n      <td>0.000004</td>\n      <td>0.000088</td>\n      <td>0.000062</td>\n      <td>NaN</td>\n      <td>0.000054</td>\n      <td>NaN</td>\n      <td>NaN</td>\n      <td>NaN</td>\n    </tr>\n    <tr>\n      <th>volume</th>\n      <td>0.000004</td>\n      <td>0.000004</td>\n      <td>0.000004</td>\n      <td>0.000004</td>\n      <td>1.000000</td>\n      <td>0.000078</td>\n      <td>0.000058</td>\n      <td>NaN</td>\n      <td>0.000044</td>\n      <td>NaN</td>\n      <td>NaN</td>\n      <td>NaN</td>\n    </tr>\n    <tr>\n      <th>close_pct</th>\n      <td>0.000088</td>\n      <td>0.000087</td>\n      <td>0.000087</td>\n      <td>0.000088</td>\n      <td>0.000078</td>\n      <td>1.000000</td>\n      <td>-0.000036</td>\n      <td>NaN</td>\n      <td>-0.000041</td>\n      <td>NaN</td>\n      <td>NaN</td>\n      <td>NaN</td>\n    </tr>\n    <tr>\n      <th>atr</th>\n      <td>0.000062</td>\n      <td>0.000062</td>\n      <td>0.000062</td>\n      <td>0.000062</td>\n      <td>0.000058</td>\n      <td>-0.000036</td>\n      <td>1.000000</td>\n      <td>NaN</td>\n      <td>0.000025</td>\n      <td>NaN</td>\n      <td>NaN</td>\n      <td>NaN</td>\n    </tr>\n    <tr>\n      <th>atr_abnormality</th>\n      <td>NaN</td>\n      <td>NaN</td>\n      <td>NaN</td>\n      <td>NaN</td>\n      <td>NaN</td>\n      <td>NaN</td>\n      <td>NaN</td>\n      <td>1.0</td>\n      <td>NaN</td>\n      <td>NaN</td>\n      <td>NaN</td>\n      <td>NaN</td>\n    </tr>\n    <tr>\n      <th>volume_pct</th>\n      <td>0.000054</td>\n      <td>0.000054</td>\n      <td>0.000054</td>\n      <td>0.000054</td>\n      <td>0.000044</td>\n      <td>-0.000041</td>\n      <td>0.000025</td>\n      <td>NaN</td>\n      <td>1.000000</td>\n      <td>NaN</td>\n      <td>NaN</td>\n      <td>NaN</td>\n    </tr>\n    <tr>\n      <th>high-low_pct</th>\n      <td>NaN</td>\n      <td>NaN</td>\n      <td>NaN</td>\n      <td>NaN</td>\n      <td>NaN</td>\n      <td>NaN</td>\n      <td>NaN</td>\n      <td>NaN</td>\n      <td>NaN</td>\n      <td>1.0</td>\n      <td>NaN</td>\n      <td>NaN</td>\n    </tr>\n    <tr>\n      <th>low_timestamp</th>\n      <td>NaN</td>\n      <td>NaN</td>\n      <td>NaN</td>\n      <td>NaN</td>\n      <td>NaN</td>\n      <td>NaN</td>\n      <td>NaN</td>\n      <td>NaN</td>\n      <td>NaN</td>\n      <td>NaN</td>\n      <td>NaN</td>\n      <td>NaN</td>\n    </tr>\n    <tr>\n      <th>high_timestamp</th>\n      <td>NaN</td>\n      <td>NaN</td>\n      <td>NaN</td>\n      <td>NaN</td>\n      <td>NaN</td>\n      <td>NaN</td>\n      <td>NaN</td>\n      <td>NaN</td>\n      <td>NaN</td>\n      <td>NaN</td>\n      <td>NaN</td>\n      <td>NaN</td>\n    </tr>\n  </tbody>\n</table>\n</div>"
     },
     "metadata": {},
     "execution_count": 8
    }
   ],
   "source": [
    "df.corr(method=te.transfer_entropy)"
   ]
  },
  {
   "cell_type": "code",
   "execution_count": null,
   "metadata": {},
   "outputs": [],
   "source": []
  },
  {
   "cell_type": "code",
   "execution_count": null,
   "metadata": {},
   "outputs": [],
   "source": []
  },
  {
   "cell_type": "code",
   "execution_count": null,
   "metadata": {},
   "outputs": [],
   "source": []
  },
  {
   "cell_type": "code",
   "execution_count": null,
   "metadata": {},
   "outputs": [],
   "source": []
  }
 ]
}