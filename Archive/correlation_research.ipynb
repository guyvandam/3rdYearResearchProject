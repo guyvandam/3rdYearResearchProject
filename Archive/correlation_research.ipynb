{
 "metadata": {
  "language_info": {
   "codemirror_mode": {
    "name": "ipython",
    "version": 3
   },
   "file_extension": ".py",
   "mimetype": "text/x-python",
   "name": "python",
   "nbconvert_exporter": "python",
   "pygments_lexer": "ipython3",
   "version": "3.8.8"
  },
  "orig_nbformat": 4,
  "kernelspec": {
   "name": "python3",
   "display_name": "Python 3.8.8 64-bit ('tensorflow': conda)"
  },
  "interpreter": {
   "hash": "d505f54e53eba193a3d42f2c160468c2cee12598e1d5cbc80b6901ea3b31043e"
  }
 },
 "nbformat": 4,
 "nbformat_minor": 2,
 "cells": [
  {
   "cell_type": "code",
   "execution_count": null,
   "source": [
    "from DataManagement.data_manager import DataManager\n",
    "from DataManagement.coin_data import CoinData\n",
    "from TransferEntropy.transfer_entropy import TransferEntropy\n",
    "from constants import ATR_ABNORMALITY_COLUMN\n",
    "# libs\n",
    "import pandas as pd\n",
    "import numpy as np\n",
    "\n",
    "# plotting\n",
    "import seaborn as sn\n",
    "import matplotlib.pyplot as plt\n",
    "# plt.rcParams[\"figure.figsize\"] = (70,30)\n",
    "\n",
    "# mutual information\n",
    "from sklearn.feature_selection import mutual_info_classif"
   ],
   "outputs": [],
   "metadata": {}
  },
  {
   "cell_type": "code",
   "execution_count": null,
   "source": [
    "# coin_symbol_list = [\"BTCUSDT\", \"ETHUSDT\", \"ADAUSDT\", \"LTCUSDT\", \"BNBUSDT\", \"XRPUSDT\"]\n",
    "coin_symbol_list = [\"BTCUSDT\", \"ETHUSDT\", \"ADAUSDT\", \"LTCUSDT\"]\n",
    "feature = \"close_pct\"\n",
    "kline_size = \"1h\"\n",
    "main_coin_symbol = \"BTCUSDT\"\n",
    "transfer_entropy_lookback = 24"
   ],
   "outputs": [],
   "metadata": {}
  },
  {
   "cell_type": "code",
   "execution_count": null,
   "source": [
    "data_manager = DataManager()\n",
    "transfer_entropy = TransferEntropy(lookback=transfer_entropy_lookback)"
   ],
   "outputs": [],
   "metadata": {}
  },
  {
   "cell_type": "code",
   "execution_count": null,
   "source": [
    "main_1h_df = data_manager.get_historical_data_CoinData(main_coin_symbol, kline_size=\"1h\").df\n",
    "main_abnromal_timestamps = main_1h_df[main_1h_df[ATR_ABNORMALITY_COLUMN] == 1].index"
   ],
   "outputs": [],
   "metadata": {}
  },
  {
   "cell_type": "code",
   "execution_count": null,
   "source": [
    "coin_data_list = [data_manager.get_historical_data_CoinData(coin_symbol, kline_size=\"1m\") for coin_symbol in coin_symbol_list]\n",
    "one_hour_coin_data_list = [data_manager.get_historical_data_CoinData(coin_symbol, kline_size=\"1h\") for coin_symbol in coin_symbol_list]"
   ],
   "outputs": [],
   "metadata": {}
  },
  {
   "cell_type": "markdown",
   "source": [
    "# Join close_pct columns of all coins togther"
   ],
   "metadata": {}
  },
  {
   "cell_type": "code",
   "execution_count": null,
   "source": [
    "def join_dataframes(coin_data_list, shift):\n",
    "    df = pd.DataFrame(index=coin_data_list[0].df.index)\n",
    "\n",
    "    for coin_data in coin_data_list:\n",
    "        df = df.join(coin_data.df.shift(shift)[feature], how=\"outer\", rsuffix=f\"_{coin_data.coin_symbol}\", on=\"timestamp\")\n",
    "\n",
    "    df.rename(columns={\"close_pct\":f\"close_pct_{coin_data_list[0].coin_symbol}\"}, inplace=True)    \n",
    "    df.dropna(inplace=True)\n",
    "    df.drop(columns=[\"timestamp\"])\n",
    "    df.set_index(\"timestamp\", inplace=True)\n",
    "    return df"
   ],
   "outputs": [],
   "metadata": {}
  },
  {
   "cell_type": "code",
   "execution_count": null,
   "source": [
    "one_min_df = join_dataframes(coin_data_list=coin_data_list, shift=0)\n",
    "one_hour_df = join_dataframes(one_hour_coin_data_list, shift=0)\n",
    "one_hour_df = data_manager.add_noise_to_df(one_hour_df)"
   ],
   "outputs": [],
   "metadata": {}
  },
  {
   "cell_type": "markdown",
   "source": [
    "# Transfer Entropy Test"
   ],
   "metadata": {}
  },
  {
   "cell_type": "code",
   "execution_count": null,
   "source": [
    "# x = random\n",
    "# yn = xn-1\n",
    "btc_series = one_hour_df['close_pct_BTCUSDT']\n",
    "test_df = pd.DataFrame(btc_series)\n",
    "test_df.rename(columns={\"close_pct_BTCUSDT\":\"btc\"}, inplace=True)\n",
    "test_df['btc_minus_1'] = btc_series.values - 1;\n",
    "test_df"
   ],
   "outputs": [],
   "metadata": {}
  },
  {
   "cell_type": "markdown",
   "source": [
    "# Create correl df"
   ],
   "metadata": {}
  },
  {
   "cell_type": "code",
   "execution_count": null,
   "source": [
    "def mutual_information(a, b):\n",
    "    return mutual_info_regression(a.reshape(-1,1), b, discrete_features = False)[0]"
   ],
   "outputs": [],
   "metadata": {}
  },
  {
   "cell_type": "markdown",
   "source": [
    "# Transfer Entropy"
   ],
   "metadata": {}
  },
  {
   "cell_type": "code",
   "execution_count": null,
   "source": [
    "# def get_correl_matrix(arr : np.ndarray, method: str = None, column_name_list: list = None, is_symetric: bool = False):\n",
    "#     cols = arr.shape[1]\n",
    "#     result = np.ones(shape=(cols,cols))\n",
    "\n",
    "#     if is_symetric:\n",
    "#         if method is None:\n",
    "#             method = \"spearman\"\n",
    "#         return pd.DataFrame(arr).corr(method=method)\n",
    "\n",
    "#     if type(arr) == pd.core.frame.DataFrame:\n",
    "#         arr = arr.to_numpy()\n",
    "   \n",
    "#     if method == \"transfer_entropy\":\n",
    "#         method = transfer_entropy.get_transfer_entropy\n",
    "    \n",
    "#     for i in range(cols):\n",
    "#         for j in range(cols):\n",
    "#             if i == j:\n",
    "#                 continue\n",
    "#             arr1 = arr[:,j]\n",
    "#             arr2 = arr[:,i]\n",
    "#             print(i, j)\n",
    "#             result[i,j] = method(arr[i], arr[j])\n",
    "    \n",
    "#     if column_name_list is not None:\n",
    "#         result = pd.DataFrame(data=result, columns=column_name_list, index=column_name_list)\n",
    "#     return result"
   ],
   "outputs": [],
   "metadata": {}
  },
  {
   "cell_type": "code",
   "execution_count": null,
   "source": [
    "def get_transfer_entropy_matrix(df : pd.DataFrame, method: str = None, is_symetric = False):\n",
    "    num_cols = df.shape[1]\n",
    "    result = np.ones(shape=(num_cols, num_cols))\n",
    "\n",
    "    if method == \"transfer_entropy\" or method is None:\n",
    "        method = transfer_entropy.get_transfer_entropy\n",
    "\n",
    "    if is_symetric:\n",
    "        if method is None:\n",
    "            method = \"spearman\"\n",
    "        return df.corr(method=method)\n",
    "\n",
    "\n",
    "    for i in range(num_cols):\n",
    "        for j in range(num_cols):\n",
    "            if i==j:\n",
    "                continue\n",
    "            result[i,j] = method(df.iloc[:, i].to_numpy(), df.iloc[:, j].to_numpy())\n",
    "    \n",
    "    return pd.DataFrame(data=result, columns=df.columns, index=df.columns)"
   ],
   "outputs": [],
   "metadata": {}
  },
  {
   "cell_type": "code",
   "execution_count": null,
   "source": [
    "from scipy.stats import spearmanr\n",
    "def yeet(arr1, arr2):\n",
    "    result = spearmanr(arr1, arr2)[0]\n",
    "    # print(result)\n",
    "    return result\n",
    "\n",
    "get_transfer_entropy_matrix(df=one_hour_df, is_symetric=True)"
   ],
   "outputs": [],
   "metadata": {}
  },
  {
   "cell_type": "code",
   "execution_count": null,
   "source": [
    "get_transfer_entropy_matrix(df=one_hour_df)"
   ],
   "outputs": [],
   "metadata": {}
  },
  {
   "cell_type": "code",
   "execution_count": null,
   "source": [
    "def get_transfer_entropy_correl_matrix_list(df):\n",
    "    window_df_list = list(df.rolling(window=transfer_entropy_lookback))\n",
    "\n",
    "    alltime_correlation_matrix_list, abnormal_correlation_matrix_list = [],[]\n",
    "    i = 0\n",
    "    skipping_counter = 0\n",
    "    for temp_df in window_df_list: # every df is the 1min data from that hour.\n",
    "        timestamp = temp_df.index[0]\n",
    "        if temp_df.empty:\n",
    "            skipping_counter += 1\n",
    "            continue\n",
    "        try:\n",
    "            temp_correl_matrix = get_transfer_entropy_matrix(df=temp_df).to_numpy()\n",
    "            \n",
    "        except:\n",
    "            skipping_counter += 1\n",
    "            continue\n",
    "        \n",
    "        if np.any(np.isnan(temp_correl_matrix)):\n",
    "            skipping_counter += 1\n",
    "            continue\n",
    "        \n",
    "        if timestamp in main_abnromal_timestamps:\n",
    "            abnormal_correlation_matrix_list.append(temp_correl_matrix)\n",
    "        \n",
    "        alltime_correlation_matrix_list.append(temp_correl_matrix)\n",
    "\n",
    "    # transfrom to np.array\n",
    "    abnormal_correlation_matrix_list = np.array(abnormal_correlation_matrix_list)\n",
    "    alltime_correlation_matrix_list = np.array(alltime_correlation_matrix_list)\n",
    "    \n",
    "    # print skipping precent\n",
    "    print(f\"skipping precent {(skipping_counter/len(window_df_list))*100} %\")\n",
    "    return alltime_correlation_matrix_list, abnormal_correlation_matrix_list"
   ],
   "outputs": [],
   "metadata": {}
  },
  {
   "cell_type": "code",
   "execution_count": null,
   "source": [
    "def get_correl_matrix_list(df, method = 'spearman'):\n",
    "    if method == 'transfer_entropy':\n",
    "        print(\"transfer_entropy\")\n",
    "        return get_transfer_entropy_correl_matrix_list(df)\n",
    "\n",
    "    resampled_list = list(df.resample(rule=\"1h\"))\n",
    "    alltime_correlation_matrix_list, abnormal_correlation_matrix_list = [],[]\n",
    "\n",
    "    skipping_counter = 0\n",
    "    for timestamp, temp_df in resampled_list: # every df is the 1min data from that hour.\n",
    "        \n",
    "        if temp_df.empty:\n",
    "            skipping_counter += 1\n",
    "            continue\n",
    "\n",
    "        try:\n",
    "\n",
    "            temp_correl_matrix = temp_df.corr(method=method).to_numpy() # df of correlation between columns. 4x4\n",
    "            \n",
    "        except:\n",
    "            skipping_counter += 1\n",
    "            continue\n",
    "        \n",
    "        if np.any(np.isnan(temp_correl_matrix)):\n",
    "            skipping_counter += 1\n",
    "            continue\n",
    "        \n",
    "        if timestamp in main_abnromal_timestamps:\n",
    "            abnormal_correlation_matrix_list.append(temp_correl_matrix)\n",
    "        \n",
    "        alltime_correlation_matrix_list.append(temp_correl_matrix)\n",
    "\n",
    "    \n",
    "    # transfrom to np.array\n",
    "    abnormal_correlation_matrix_list = np.array(abnormal_correlation_matrix_list)\n",
    "    alltime_correlation_matrix_list = np.array(alltime_correlation_matrix_list)\n",
    "    \n",
    "    # print skipping precent\n",
    "    print(f\"skipping precent {(skipping_counter/len(resampled_list))*100} %\")\n",
    "    return alltime_correlation_matrix_list, abnormal_correlation_matrix_list"
   ],
   "outputs": [],
   "metadata": {}
  },
  {
   "cell_type": "markdown",
   "source": [
    "# mutual info"
   ],
   "metadata": {}
  },
  {
   "cell_type": "code",
   "execution_count": null,
   "source": [
    "# alltime_mi_matrix_list, abnormal_mi_matrix_list = get_correl_matrix_list(df, method=mutual_information)\n",
    "# alltime_correlation_matrix_list, abnormal_correlation_matrix_list = get_correl_matrix_list(df)"
   ],
   "outputs": [],
   "metadata": {
    "tags": []
   }
  },
  {
   "cell_type": "markdown",
   "source": [
    "# correl"
   ],
   "metadata": {}
  },
  {
   "cell_type": "code",
   "execution_count": null,
   "source": [
    "suptitle_fontsize = 40\n",
    "font_scale = 3"
   ],
   "outputs": [],
   "metadata": {}
  },
  {
   "cell_type": "code",
   "execution_count": null,
   "source": [
    "def plot_heatmap(correl_df, title, shift = 0):\n",
    "    mean_corr_df = pd.DataFrame(index=coin_symbol_list, columns=coin_symbol_list, data=correl_df)\n",
    "\n",
    "    fig_size = max(len(df.columns), 10)\n",
    "    sn.set(rc={\"figure.figsize\":tuple([fig_size]*2)})\n",
    "    title = f\"Settings - feature:{feature} | time-frame:{kline_size} | main-coin:{main_coin_symbol} | shift:{shift}\\n\" + title\n",
    "\n",
    "    sn.heatmap(mean_corr_df, annot=True).set(title=title);\n",
    "\n",
    "def plot_heatmap_on_axes(data, title, axes):\n",
    "    fig_size = 10\n",
    "    sn.set(rc={\"figure.figsize\":tuple([fig_size]*2)}, font_scale = font_scale)\n",
    "    \n",
    "    size = data.shape[0]\n",
    "    mean_corr_df = pd.DataFrame(index=coin_symbol_list[:size], columns=coin_symbol_list[:size], data=data)\n",
    "    sn.heatmap(mean_corr_df, annot=True, ax=axes).set(title=title);"
   ],
   "outputs": [],
   "metadata": {}
  },
  {
   "cell_type": "code",
   "execution_count": null,
   "source": [
    "def plot_heatmap_master(df, correl_method = 'spearman', shift = 0):\n",
    "    alltime_correl_matrix_list, abnormal_correl_matrix_list = get_correl_matrix_list(df, method=correl_method)\n",
    "\n",
    "    fig, axes = plt.subplots(nrows=1, ncols=3, figsize=(70,20))\n",
    "    fig_title = f\"Settings - feature:{feature} | time-frame:{kline_size} | main-coin:{main_coin_symbol} | shift:{shift}\"\n",
    "    fig.suptitle(fig_title, fontsize = suptitle_fontsize)\n",
    "    \n",
    "    alltime_correl_mean = alltime_correl_matrix_list.mean(axis=0)\n",
    "    abnormal_correl_mean = abnormal_correl_matrix_list.mean(axis=0)\n",
    "    \n",
    "    title_data_dict = {\n",
    "        f\"alltime Mean of 1h {correl_method}\": alltime_correl_mean, \n",
    "        f\"abnormal Mean of 1h {correl_method}\":abnormal_correl_mean, \n",
    "        \"abnromal minus alltime\": abnormal_correl_mean-alltime_correl_mean}\n",
    "    for i, (title, data) in enumerate(title_data_dict.items()):\n",
    "        plot_heatmap_on_axes(data=data, title=title, axes=axes[i])\n",
    "    fig.tight_layout()\n",
    "    filename = \"correlation_research_plot.jpg\"\n",
    "    fig.savefig(filename)"
   ],
   "outputs": [],
   "metadata": {}
  },
  {
   "cell_type": "code",
   "execution_count": null,
   "source": [
    "# plot_heatmap_master(one_hour_df, correl_method='transfer_entropy')"
   ],
   "outputs": [],
   "metadata": {
    "tags": []
   }
  },
  {
   "cell_type": "code",
   "execution_count": null,
   "source": [
    "plot_heatmap_master(test_df, correl_method='transfer_entropy')"
   ],
   "outputs": [],
   "metadata": {}
  },
  {
   "cell_type": "markdown",
   "source": [
    "# Pearson Correlation"
   ],
   "metadata": {}
  },
  {
   "cell_type": "code",
   "execution_count": null,
   "source": [
    "plot_heatmap(alltime_correlation_matrix_list.mean(axis=0), \"all time Mean of 1min correaltion\")"
   ],
   "outputs": [],
   "metadata": {}
  },
  {
   "cell_type": "code",
   "execution_count": null,
   "source": [
    "plot_heatmap(abnormal_correlation_matrix_list.mean(axis=0), \"Mean of abnomral 1min correlation\")"
   ],
   "outputs": [],
   "metadata": {}
  },
  {
   "cell_type": "markdown",
   "source": [
    "# Difference"
   ],
   "metadata": {}
  },
  {
   "cell_type": "code",
   "execution_count": null,
   "source": [
    "plot_heatmap(abnormal_correlation_matrix_list.mean(axis=0)-alltime_correlation_matrix_list.mean(axis=0), \"Difference between all-time and Abnormal\")"
   ],
   "outputs": [],
   "metadata": {}
  },
  {
   "cell_type": "code",
   "execution_count": null,
   "source": [
    "plot_heatmap(abnormal_correlation_matrix_list.std(axis=0)-alltime_correlation_matrix_list.std(axis=0), \"diff\")"
   ],
   "outputs": [],
   "metadata": {}
  },
  {
   "cell_type": "markdown",
   "source": [
    "# MI"
   ],
   "metadata": {}
  },
  {
   "cell_type": "code",
   "execution_count": null,
   "source": [
    "plot_heatmap(abnormal_mi_matrix_list.mean(axis=0), \"all time\")"
   ],
   "outputs": [],
   "metadata": {}
  },
  {
   "cell_type": "code",
   "execution_count": null,
   "source": [],
   "outputs": [],
   "metadata": {}
  },
  {
   "cell_type": "code",
   "execution_count": null,
   "source": [],
   "outputs": [],
   "metadata": {}
  },
  {
   "cell_type": "code",
   "execution_count": null,
   "source": [
    "plot_heatmap(abnormal_mi_matrix_list.mean(axis=0) - alltime_mi_matrix_list.mean(axis=0), \"difference in Mean 1min m1\")"
   ],
   "outputs": [],
   "metadata": {}
  },
  {
   "cell_type": "code",
   "execution_count": null,
   "source": [],
   "outputs": [],
   "metadata": {}
  }
 ]
}