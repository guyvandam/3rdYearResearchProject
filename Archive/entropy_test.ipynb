{
 "metadata": {
  "language_info": {
   "codemirror_mode": {
    "name": "ipython",
    "version": 3
   },
   "file_extension": ".py",
   "mimetype": "text/x-python",
   "name": "python",
   "nbconvert_exporter": "python",
   "pygments_lexer": "ipython3",
   "version": "3.8.8"
  },
  "orig_nbformat": 4,
  "kernelspec": {
   "name": "python3",
   "display_name": "Python 3.8.8 64-bit ('tensorflow': conda)"
  },
  "interpreter": {
   "hash": "d505f54e53eba193a3d42f2c160468c2cee12598e1d5cbc80b6901ea3b31043e"
  }
 },
 "nbformat": 4,
 "nbformat_minor": 2,
 "cells": [
  {
   "cell_type": "code",
   "execution_count": 1,
   "source": [
    "from DataManagement.data_manager import DataManager\n",
    "from DataManagement.coin_data import CoinData\n",
    "from TransferEntropy.transfer_entropy import TransferEntropy\n",
    "from constants import ATR_ABNORMALITY_COLUMN\n",
    "# libs\n",
    "import pandas as pd\n",
    "import numpy as np\n",
    "\n",
    "# plotting\n",
    "import seaborn as sn\n",
    "import matplotlib.pyplot as plt\n",
    "# plt.rcParams[\"figure.figsize\"] = (70,30)\n",
    "\n",
    "# mutual information\n",
    "from sklearn.feature_selection import mutual_info_classif"
   ],
   "outputs": [],
   "metadata": {}
  },
  {
   "cell_type": "code",
   "execution_count": 2,
   "source": [
    "variables = {}\n",
    "delay = 1\n",
    "num_of_points = 10000"
   ],
   "outputs": [],
   "metadata": {}
  },
  {
   "cell_type": "code",
   "execution_count": null,
   "source": [
    "x = np.array([])\n",
    "y = np.array([])"
   ],
   "outputs": [],
   "metadata": {}
  },
  {
   "cell_type": "code",
   "execution_count": 3,
   "source": [
    "x = np.array([])\n",
    "y = np.array([])\n",
    "\n",
    "mu = 0\n",
    "sigma = 1\n",
    "size = (num_of_points,)\n",
    "noise = np.random.normal(loc=mu, scale=sigma, size=size)\n",
    "x = noise[delay:]\n",
    "y = noise[:-delay]\n",
    "\n",
    "plt.scatter(x, [2]*(num_of_points-delay), alpha=0.5, c='b')\n",
    "plt.scatter(y, [1]*(num_of_points-delay), alpha=0.5, c='r')\n",
    "\n",
    "variables['normal'] = (x,y)"
   ],
   "outputs": [
    {
     "output_type": "display_data",
     "data": {
      "text/plain": [
       "<Figure size 432x288 with 1 Axes>"
      ],
      "image/png": "[encoded data removed]"
     },
     "metadata": {
      "needs_background": "light"
     }
    }
   ],
   "metadata": {}
  },
  {
   "cell_type": "code",
   "execution_count": 4,
   "source": [
    "x = np.array([])\n",
    "y = np.array([])\n",
    "\n",
    "linspace = np.linspace(0, 10, num_of_points)\n",
    "sin_points = np.sin(linspace)\n",
    "x = sin_points[delay:]\n",
    "y = sin_points[:-delay]\n",
    "\n",
    "plt.scatter(linspace[delay:], x, alpha=0.5, c='b')\n",
    "plt.scatter(linspace[:-delay], y, alpha=0.5, c='r')\n",
    "\n",
    "variables['sin'] = (x,y)"
   ],
   "outputs": [
    {
     "output_type": "display_data",
     "data": {
      "text/plain": [
       "<Figure size 432x288 with 1 Axes>"
      ],
      "image/png": "[encoded data removed]"
     },
     "metadata": {
      "needs_background": "light"
     }
    }
   ],
   "metadata": {}
  },
  {
   "cell_type": "code",
   "execution_count": 5,
   "source": [
    "x = np.array([])\n",
    "y = np.array([])\n",
    "\n",
    "linspace = np.linspace(0, 10, num_of_points)\n",
    "exp_points = np.exp(linspace)\n",
    "x = exp_points[delay:]\n",
    "y = exp_points[:-delay]\n",
    "\n",
    "plt.scatter(linspace[delay:], x, alpha=0.5, c='b')\n",
    "plt.scatter(linspace[:-delay], y, alpha=0.5, c='r')\n",
    "\n",
    "variables['exp'] = (x,y)"
   ],
   "outputs": [
    {
     "output_type": "display_data",
     "data": {
      "text/plain": [
       "<Figure size 432x288 with 1 Axes>"
      ],
      "image/png": "[encoded data removed]"
     },
     "metadata": {
      "needs_background": "light"
     }
    }
   ],
   "metadata": {}
  },
  {
   "cell_type": "code",
   "execution_count": 6,
   "source": [
    "print('\\n')\n",
    "print('delay:', delay)\n",
    "print('num_of_points', num_of_points)\n",
    "print('\\n')\n",
    "\n",
    "for variable_source in variables.keys():\n",
    "    x, y = variables[variable_source]\n",
    "\n",
    "    transfer_entropy = TransferEntropy()\n",
    "\n",
    "    print('variables_source:', variable_source, '\\n')\n",
    "\n",
    "    print('transfer_entropy(x,y):')\n",
    "    print(transfer_entropy.get_transfer_entropy(x,y), '\\n')\n",
    "    print('transfer_entropy(y,x):')\n",
    "    print(transfer_entropy.get_transfer_entropy(y,x), '\\n')\n",
    "    print('\\n')"
   ],
   "outputs": [
    {
     "output_type": "stream",
     "name": "stdout",
     "text": [
      "\n",
      "\n",
      "delay: 1\n",
      "num_of_points 10000\n",
      "\n",
      "\n",
      "variables_source: normal \n",
      "\n",
      "transfer_entropy(x,y):\n",
      "5.815709622702947e-05 \n",
      "\n",
      "transfer_entropy(y,x):\n",
      "1.0234242718620834e-05 \n",
      "\n",
      "\n",
      "\n",
      "variables_source: sin \n",
      "\n",
      "transfer_entropy(x,y):\n",
      "3.78325407965896e-05 \n",
      "\n",
      "transfer_entropy(y,x):\n",
      "3.473848477930641e-05 \n",
      "\n",
      "\n",
      "\n",
      "variables_source: exp \n",
      "\n",
      "transfer_entropy(x,y):\n",
      "0.00030021304184302267 \n",
      "\n",
      "transfer_entropy(y,x):\n",
      "0.0002961854377749873 \n",
      "\n",
      "\n",
      "\n"
     ]
    }
   ],
   "metadata": {}
  },
  {
   "cell_type": "code",
   "execution_count": null,
   "source": [],
   "outputs": [],
   "metadata": {}
  },
  {
   "cell_type": "code",
   "execution_count": null,
   "source": [],
   "outputs": [],
   "metadata": {}
  },
  {
   "cell_type": "code",
   "execution_count": 7,
   "source": [
    "# from TransferEntropy.transfer_entropy import TransferEntropy\n",
    "\n",
    "# sum_xy_te = 0\n",
    "# sum_yx_te = 0\n",
    "\n",
    "# reps = 1000\n",
    "\n",
    "# for i in range(reps):\n",
    "#     num_of_points = 1000\n",
    "#     num_samples = 2\n",
    "#     shift = 1\n",
    "\n",
    "#     x_mu = 0\n",
    "#     x_sigma = 1\n",
    "#     x_size = (num_of_points,)\n",
    "#     x = np.random.normal(loc=x_mu, scale=x_sigma, size=x_size)\n",
    "\n",
    "#     ksi_mu = 0\n",
    "#     ksi_sigma = 0.1\n",
    "#     ksi_size = (num_of_points,)\n",
    "#     ksi = np.random.normal(loc=ksi_mu, scale=ksi_sigma, size=ksi_size)\n",
    "\n",
    "\n",
    "#     num_of_points -= shift\n",
    "\n",
    "#     y = x[:num_of_points] + ksi[:num_of_points]\n",
    "#     x = x[shift:]\n",
    "\n",
    "#     x = x[len(x)-num_samples:]\n",
    "#     y = y[len(y)-num_samples:]\n",
    "\n",
    "\n",
    "#     transfer_entropy = TransferEntropy()\n",
    "\n",
    "#     xy_te = transfer_entropy.get_transfer_entropy(x,y)\n",
    "#     yx_te = transfer_entropy.get_transfer_entropy(y,x)\n",
    "\n",
    "#     # print('TransferEntropy(x,y) =', xy_te)\n",
    "#     # print('TransferEntropy(y,x) =', yx_te)\n",
    "\n",
    "#     sum_xy_te += xy_te\n",
    "#     sum_yx_te += yx_te\n",
    "\n",
    "# mean_xy_te = sum_xy_te / reps\n",
    "# mean_yx_te = sum_yx_te / reps\n",
    "\n",
    "# print('MeanTransferEntropy(x,y) =', mean_xy_te)\n",
    "# print('MeanTransferEntropy(y,x) =', mean_yx_te)\n",
    "\n",
    "\n",
    "\n"
   ],
   "outputs": [],
   "metadata": {}
  },
  {
   "cell_type": "code",
   "execution_count": 12,
   "source": [
    "def test_transfer_entropy():\n",
    "    num_samples = 1000\n",
    "    num_points = 2 #y2, y1\n",
    "\n",
    "    x_mu = 0\n",
    "    x_sigma = 1\n",
    "    x_size = (num_samples,)\n",
    "    x = [np.random.normal(loc=x_mu, scale=x_sigma, size=x_size) for _ in range(num_points)]\n",
    "\n",
    "    ksi_mu = 0\n",
    "    ksi_sigma = 0.1\n",
    "    ksi_size = (num_samples,)\n",
    "    ksi = [np.random.normal(loc=ksi_mu, scale=ksi_sigma, size=ksi_size) for _ in range(num_points)]\n",
    "\n",
    "    # num_of_points -= shift\n",
    "    \n",
    "    # y2 = x[0] + ksi[1]\n",
    "    # x1 = x[0]\n",
    "\n",
    "    x = np.array(x).reshape(2,)\n",
    "    y = np.array([0, x[1]])\n",
    "    print(x.shape)\n",
    "    # x = x[len(x)-num_samples:]\n",
    "    # y = y[len(y)-num_samples:]\n",
    "\n",
    "\n",
    "    transfer_entropy = TransferEntropy()\n",
    "\n",
    "    xy_te = transfer_entropy.get_transfer_entropy(x,y)\n",
    "    yx_te = transfer_entropy.get_transfer_entropy(y,x)\n",
    "    print(xy_te, yx_te)"
   ],
   "outputs": [],
   "metadata": {}
  },
  {
   "cell_type": "code",
   "execution_count": 13,
   "source": [
    "test_transfer_entropy()"
   ],
   "outputs": [
    {
     "output_type": "error",
     "ename": "ValueError",
     "evalue": "cannot reshape array of size 2000 into shape (2,)",
     "traceback": [
      "\u001b[0;31m---------------------------------------------------------------------------\u001b[0m",
      "\u001b[0;31mValueError\u001b[0m                                Traceback (most recent call last)",
      "\u001b[0;32m<ipython-input-13-3401ee31763f>\u001b[0m in \u001b[0;36m<module>\u001b[0;34m\u001b[0m\n\u001b[0;32m----> 1\u001b[0;31m \u001b[0mtest_transfer_entropy\u001b[0m\u001b[0;34m(\u001b[0m\u001b[0;34m)\u001b[0m\u001b[0;34m\u001b[0m\u001b[0;34m\u001b[0m\u001b[0m\n\u001b[0m",
      "\u001b[0;32m<ipython-input-12-41aad5edfbbe>\u001b[0m in \u001b[0;36mtest_transfer_entropy\u001b[0;34m()\u001b[0m\n\u001b[1;32m     18\u001b[0m     \u001b[0;31m# x1 = x[0]\u001b[0m\u001b[0;34m\u001b[0m\u001b[0;34m\u001b[0m\u001b[0;34m\u001b[0m\u001b[0m\n\u001b[1;32m     19\u001b[0m \u001b[0;34m\u001b[0m\u001b[0m\n\u001b[0;32m---> 20\u001b[0;31m     \u001b[0mx\u001b[0m \u001b[0;34m=\u001b[0m \u001b[0mnp\u001b[0m\u001b[0;34m.\u001b[0m\u001b[0marray\u001b[0m\u001b[0;34m(\u001b[0m\u001b[0mx\u001b[0m\u001b[0;34m)\u001b[0m\u001b[0;34m.\u001b[0m\u001b[0mreshape\u001b[0m\u001b[0;34m(\u001b[0m\u001b[0;36m2\u001b[0m\u001b[0;34m,\u001b[0m\u001b[0;34m)\u001b[0m\u001b[0;34m\u001b[0m\u001b[0;34m\u001b[0m\u001b[0m\n\u001b[0m\u001b[1;32m     21\u001b[0m     \u001b[0my\u001b[0m \u001b[0;34m=\u001b[0m \u001b[0mnp\u001b[0m\u001b[0;34m.\u001b[0m\u001b[0marray\u001b[0m\u001b[0;34m(\u001b[0m\u001b[0;34m[\u001b[0m\u001b[0;36m0\u001b[0m\u001b[0;34m,\u001b[0m \u001b[0mx\u001b[0m\u001b[0;34m[\u001b[0m\u001b[0;36m1\u001b[0m\u001b[0;34m]\u001b[0m\u001b[0;34m]\u001b[0m\u001b[0;34m)\u001b[0m\u001b[0;34m\u001b[0m\u001b[0;34m\u001b[0m\u001b[0m\n\u001b[1;32m     22\u001b[0m     \u001b[0mprint\u001b[0m\u001b[0;34m(\u001b[0m\u001b[0mx\u001b[0m\u001b[0;34m.\u001b[0m\u001b[0mshape\u001b[0m\u001b[0;34m)\u001b[0m\u001b[0;34m\u001b[0m\u001b[0;34m\u001b[0m\u001b[0m\n",
      "\u001b[0;31mValueError\u001b[0m: cannot reshape array of size 2000 into shape (2,)"
     ]
    }
   ],
   "metadata": {}
  },
  {
   "cell_type": "code",
   "execution_count": null,
   "source": [
    "len(x[len(x)-2:])"
   ],
   "outputs": [
    {
     "output_type": "execute_result",
     "data": {
      "text/plain": [
       "2"
      ]
     },
     "metadata": {},
     "execution_count": 12
    }
   ],
   "metadata": {}
  },
  {
   "cell_type": "code",
   "execution_count": null,
   "source": [
    "a = np.array([1,2,34])"
   ],
   "outputs": [],
   "metadata": {}
  },
  {
   "cell_type": "code",
   "execution_count": null,
   "source": [
    "a[len(a)-1:]"
   ],
   "outputs": [
    {
     "output_type": "execute_result",
     "data": {
      "text/plain": [
       "array([34])"
      ]
     },
     "metadata": {},
     "execution_count": 14
    }
   ],
   "metadata": {}
  },
  {
   "cell_type": "code",
   "execution_count": 1,
   "source": [
    "names = ['guy', 'ido', 'sagi', 'shahar', 'tom', 'yair', 'yoav']\n",
    "sharon_names = ['guy', 'sagi', 'tom', 'yoav']\n",
    "other = ['ido', 'yair', 'shahar']\n",
    "import random\n",
    "random.choice(sharon_names)"
   ],
   "outputs": [
    {
     "output_type": "execute_result",
     "data": {
      "text/plain": [
       "'guy'"
      ]
     },
     "metadata": {},
     "execution_count": 1
    }
   ],
   "metadata": {}
  },
  {
   "cell_type": "code",
   "execution_count": 21,
   "source": [
    "random.choice(other)"
   ],
   "outputs": [
    {
     "output_type": "execute_result",
     "data": {
      "text/plain": [
       "'shahar'"
      ]
     },
     "metadata": {},
     "execution_count": 21
    }
   ],
   "metadata": {}
  },
  {
   "cell_type": "code",
   "execution_count": 2,
   "source": [
    "import numpy as np\n",
    "import random\n",
    "from TransferEntropy.transfer_entropy import EEC\n",
    "random.seed(0)\n",
    "\n",
    "n = 10000\n",
    "x = np.random.normal(loc=0, scale=1, size=n+1)\n",
    "x0 = x[1:n]\n",
    "x1 = x[2:n+1]\n",
    "\n",
    "ksi = np.random.normal(loc=0, scale=0.1, size=n+1)\n",
    "y1 = x0 + ksi[1:n]\n",
    "y2 = x1 + ksi[2:n+1]\n",
    "\n",
    "\n",
    "t3 = np.array([y2, y1, x1]).T\n",
    "e1 = EEC(np.array([y1, y2]).T)\n",
    "e2 = EEC(np.array([y1]).T)\n",
    "e3 = EEC(np.array([y2, y1, x1]).T)\n",
    "e4 = EEC(np.array([y1, x1]).T)\n",
    "\n",
    "print(e1, e2, e3, e4, e1-e2-e3+e4)\n",
    "\n",
    "# EEC(np.array([y2, x1]).T)\n"
   ],
   "outputs": [
    {
     "output_type": "stream",
     "name": "stdout",
     "text": [
      "2.7465536553255876 1.3732612834860671 1.8058042505116383 2.74021367324372 2.307701794571602\n"
     ]
    }
   ],
   "metadata": {}
  },
  {
   "cell_type": "code",
   "execution_count": 3,
   "source": [
    "import numpy as np\n",
    "import random\n",
    "from TransferEntropy.transfer_entropy import EEC\n",
    "random.seed(0)\n",
    "\n",
    "n = 10000\n",
    "x0 = np.random.normal(loc=0, scale=1, size=n)\n",
    "x1 = np.random.normal(loc=0, scale=1, size=n)\n",
    "\n",
    "# ksi = np.random.normal(loc=0, scale=0.1, size=n)\n",
    "y1 = x0 + np.random.normal(loc=0, scale=0.1, size=n)\n",
    "y2 = x1 + np.random.normal(loc=0, scale=0.1, size=n)\n",
    "\n",
    "\n",
    "t3 = np.array([y2, y1, x1]).T\n",
    "e1 = EEC(np.array([y1, y2]).T)\n",
    "e2 = EEC(np.array([y1]).T)\n",
    "e3 = EEC(np.array([y2, y1, x1]).T)\n",
    "e4 = EEC(np.array([y1, x1]).T)\n",
    "\n",
    "print(e1, e2, e3, e4, e1-e2-e3+e4)\n",
    "\n",
    "EEC(np.array([y2, x1]).T)\n"
   ],
   "outputs": [
    {
     "output_type": "stream",
     "name": "stdout",
     "text": [
      "2.7584602953800372 1.3773425088719276 1.8127625177351572 2.752756277183406 2.3211115459563585\n"
     ]
    },
    {
     "output_type": "execute_result",
     "data": {
      "text/plain": [
       "0.43500528459480803"
      ]
     },
     "metadata": {},
     "execution_count": 3
    }
   ],
   "metadata": {}
  },
  {
   "cell_type": "code",
   "execution_count": 4,
   "source": [
    "EEC(np.array([y1, y2]).T)"
   ],
   "outputs": [
    {
     "output_type": "execute_result",
     "data": {
      "text/plain": [
       "2.7584602953800372"
      ]
     },
     "metadata": {},
     "execution_count": 4
    }
   ],
   "metadata": {}
  },
  {
   "cell_type": "code",
   "execution_count": 48,
   "source": [
    "import pandas as pd\n",
    "# df3 = pd.DataFrame(t3)\n",
    "# df3.to_csv(\"random_numbers_from_the_book.csv\")\n",
    "\n",
    "df5 = pd.DataFrame(np.array([x,ksi]).T)\n",
    "df5.to_csv(\"x_and_ksi.csv\")"
   ],
   "outputs": [],
   "metadata": {}
  },
  {
   "cell_type": "code",
   "execution_count": 53,
   "source": [
    "np.array([y1, y2]).T"
   ],
   "outputs": [
    {
     "output_type": "execute_result",
     "data": {
      "text/plain": [
       "array([[ 0.24893001, -0.91106307],\n",
       "       [-0.91106307, -0.39071815],\n",
       "       [-0.39071815,  0.73929956],\n",
       "       ...,\n",
       "       [-1.0084441 ,  0.59764074],\n",
       "       [ 0.59764074,  0.45411328],\n",
       "       [ 0.45411328,  0.62171499]])"
      ]
     },
     "metadata": {},
     "execution_count": 53
    }
   ],
   "metadata": {}
  },
  {
   "cell_type": "code",
   "execution_count": 47,
   "source": [
    "df5.shape\n",
    "# np.array([y1, y2]).T"
   ],
   "outputs": [
    {
     "output_type": "execute_result",
     "data": {
      "text/plain": [
       "(2, 1001)"
      ]
     },
     "metadata": {},
     "execution_count": 47
    }
   ],
   "metadata": {}
  },
  {
   "cell_type": "code",
   "execution_count": 35,
   "source": [
    "x = np.random.normal(loc=0, scale=1, size=n)\n",
    "y = x + 0.5*np.random.normal(loc=0,scale=1, size=n)\n",
    "z = x + y + 0.5*np.random.normal(loc=0, scale=1, size=n)\n",
    "EEC(np.array([x,y,z]).T)"
   ],
   "outputs": [
    {
     "output_type": "execute_result",
     "data": {
      "text/plain": [
       "2.7951654932190273"
      ]
     },
     "metadata": {},
     "execution_count": 35
    }
   ],
   "metadata": {}
  },
  {
   "cell_type": "code",
   "execution_count": 25,
   "source": [
    "import numpy as np\n",
    "a = np.array([0,0,0])\n",
    "np.all( a == 0)\n"
   ],
   "outputs": [
    {
     "output_type": "execute_result",
     "data": {
      "text/plain": [
       "True"
      ]
     },
     "metadata": {},
     "execution_count": 25
    }
   ],
   "metadata": {}
  },
  {
   "cell_type": "code",
   "execution_count": 26,
   "source": [
    "\n",
    "np.all(a == 0)"
   ],
   "outputs": [
    {
     "output_type": "execute_result",
     "data": {
      "text/plain": [
       "True"
      ]
     },
     "metadata": {},
     "execution_count": 26
    }
   ],
   "metadata": {}
  },
  {
   "cell_type": "code",
   "execution_count": 12,
   "source": [
    "from tqdm import tqdm\n",
    "for i in enumerate(tqdm(range(10000000))):\n",
    "    pass"
   ],
   "outputs": [
    {
     "output_type": "stream",
     "name": "stderr",
     "text": [
      "100%|██████████| 10000000/10000000 [00:01<00:00, 7596626.28it/s]\n"
     ]
    }
   ],
   "metadata": {}
  },
  {
   "cell_type": "code",
   "execution_count": null,
   "source": [],
   "outputs": [],
   "metadata": {}
  }
 ]
}